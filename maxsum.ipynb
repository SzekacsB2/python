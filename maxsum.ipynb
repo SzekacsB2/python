{
 "cells": [
  {
   "cell_type": "markdown",
   "id": "7668a25b",
   "metadata": {},
   "source": [
    "# maximum sum path\n",
    "\n",
    "given a matrix of dimensions *$N^{2}$*, finds the path from the top-left cell to the bottom-right cell such that the sum of elements in the path is maximum\n",
    "\n",
    "the only moves allowed from any cell *(i, j)* of the matrix are *(i + 1, j)* or *(i, j + 1)*\n",
    "\n",
    "### parameters\n",
    "\n",
    "- **grid** (`np.ndarray`): a 2D array of dimensions *$N^{2}$*\n",
    "- **N** (`int`)\n",
    "\n",
    "### returns\n",
    "\n",
    "- an array, were each cell contains the maximum sum achievable from there, with cell *(0, 0)* being the maximum sum for `grid`"
   ]
  },
  {
   "cell_type": "code",
   "execution_count": 1,
   "id": "0f64742d",
   "metadata": {},
   "outputs": [],
   "source": [
    "import numpy as np\n",
    "import matplotlib.pyplot as plt\n",
    "import random"
   ]
  },
  {
   "cell_type": "markdown",
   "id": "9707a8c3",
   "metadata": {},
   "source": [
    "### bottom-up approach"
   ]
  },
  {
   "cell_type": "code",
   "execution_count": 2,
   "id": "50806a57",
   "metadata": {},
   "outputs": [],
   "source": [
    "def recur_method(grid, N):\n",
    "    if N == 2:\n",
    "        grid[0, 0] += max(grid[0, 1], grid[1, 0])\n",
    "        return grid\n",
    "    \n",
    "    eval_grid = recur_method(grid[1:,1:], N-1)\n",
    "    grid[1:,1:] = eval_grid\n",
    "    \n",
    "    for i in range(1, N):\n",
    "        grid[0, -i] += max(eval_grid[0, -i], grid[0, -(i-1)])\n",
    "        grid[-i, 0] += max(eval_grid[-i, 0], grid[-(i-1), 0])\n",
    "    grid[0, 0] += max(grid[0, 1], grid[1, 0])\n",
    "    \n",
    "    return grid"
   ]
  },
  {
   "cell_type": "markdown",
   "id": "b994a941",
   "metadata": {},
   "source": [
    "### top-down approach"
   ]
  },
  {
   "cell_type": "code",
   "execution_count": 3,
   "id": "7e76958a",
   "metadata": {},
   "outputs": [],
   "source": [
    "def loop_method(grid, N):\n",
    "    for index in range(2, N + 1):\n",
    "        grid[-1, -index] += grid[-1, -index +1]\n",
    "        grid[-index, -1] += grid[-index +1, -1]\n",
    "    for r in range(2, N + 1):\n",
    "        for c in range(2, N + 1):\n",
    "            grid[-r, -c] += max(grid[-r, -c + 1], grid[-r + 1, -c])\n",
    "    \n",
    "    return grid"
   ]
  },
  {
   "cell_type": "markdown",
   "id": "f21e741f",
   "metadata": {},
   "source": [
    "------"
   ]
  },
  {
   "cell_type": "code",
   "execution_count": 4,
   "id": "327d3723",
   "metadata": {},
   "outputs": [],
   "source": [
    "def populate(N):\n",
    "    grid = np.random.randint(10, size=(N, N))\n",
    "    grid[-1, -1] = 0\n",
    "    return grid"
   ]
  },
  {
   "cell_type": "code",
   "execution_count": 5,
   "id": "0c9ab37d",
   "metadata": {},
   "outputs": [],
   "source": [
    "def traverse_grid(path_grid,  N):\n",
    "    r = 0\n",
    "    c = 0\n",
    "    path = [[0, 0]]\n",
    "    \n",
    "    while r + c != 2*(N - 1):\n",
    "        if r == N - 1:\n",
    "            c += 1\n",
    "        elif c == N - 1:\n",
    "            r += 1\n",
    "        else:\n",
    "            if path_grid[r, c + 1] > path_grid[r + 1, c]:\n",
    "                c +=1\n",
    "            else:\n",
    "                r += 1\n",
    "        path.append([r, c])\n",
    "    return path"
   ]
  }
 ],
 "metadata": {
  "kernelspec": {
   "display_name": "Python 3 (ipykernel)",
   "language": "python",
   "name": "python3"
  },
  "language_info": {
   "codemirror_mode": {
    "name": "ipython",
    "version": 3
   },
   "file_extension": ".py",
   "mimetype": "text/x-python",
   "name": "python",
   "nbconvert_exporter": "python",
   "pygments_lexer": "ipython3",
   "version": "3.9.12"
  }
 },
 "nbformat": 4,
 "nbformat_minor": 5
}
